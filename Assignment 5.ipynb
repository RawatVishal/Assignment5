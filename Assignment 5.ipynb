{
 "cells": [
  {
   "cell_type": "markdown",
   "id": "132b080a",
   "metadata": {},
   "source": [
    "Assignment 5"
   ]
  },
  {
   "cell_type": "code",
   "execution_count": 2,
   "id": "50573984",
   "metadata": {},
   "outputs": [
    {
     "name": "stdout",
     "output_type": "stream",
     "text": [
      "<class 'dict'>\n"
     ]
    }
   ],
   "source": [
    "#Q1\n",
    "dict = {}\n",
    "print(type(dict))"
   ]
  },
  {
   "cell_type": "code",
   "execution_count": 4,
   "id": "742f781e",
   "metadata": {},
   "outputs": [
    {
     "name": "stdout",
     "output_type": "stream",
     "text": [
      "dict_values([42])\n"
     ]
    }
   ],
   "source": [
    "#Q2\n",
    "dict ={'foo':42}\n",
    "print(dict.values())"
   ]
  },
  {
   "cell_type": "code",
   "execution_count": 5,
   "id": "b72fcef4",
   "metadata": {},
   "outputs": [],
   "source": [
    "#Q3\n",
    "#List will contain element on the basis of indexes and dictionary will contain data in the form of key value pair "
   ]
  },
  {
   "cell_type": "code",
   "execution_count": 7,
   "id": "6e653202",
   "metadata": {},
   "outputs": [
    {
     "ename": "KeyError",
     "evalue": "'foo'",
     "output_type": "error",
     "traceback": [
      "\u001b[1;31m---------------------------------------------------------------------------\u001b[0m",
      "\u001b[1;31mKeyError\u001b[0m                                  Traceback (most recent call last)",
      "\u001b[1;32m~\\AppData\\Local\\Temp/ipykernel_2224/705831113.py\u001b[0m in \u001b[0;36m<module>\u001b[1;34m\u001b[0m\n\u001b[0;32m      1\u001b[0m \u001b[1;31m#Q4\u001b[0m\u001b[1;33m\u001b[0m\u001b[1;33m\u001b[0m\u001b[0m\n\u001b[0;32m      2\u001b[0m \u001b[0mspam\u001b[0m \u001b[1;33m=\u001b[0m \u001b[1;33m{\u001b[0m\u001b[1;34m'bar'\u001b[0m\u001b[1;33m:\u001b[0m\u001b[1;36m100\u001b[0m\u001b[1;33m}\u001b[0m\u001b[1;33m\u001b[0m\u001b[1;33m\u001b[0m\u001b[0m\n\u001b[1;32m----> 3\u001b[1;33m \u001b[0mspam\u001b[0m\u001b[1;33m[\u001b[0m\u001b[1;34m'foo'\u001b[0m\u001b[1;33m]\u001b[0m\u001b[1;33m\u001b[0m\u001b[1;33m\u001b[0m\u001b[0m\n\u001b[0m\u001b[0;32m      4\u001b[0m \u001b[1;31m# it showed error because it is unable to find any key which is equal to 'foo'\u001b[0m\u001b[1;33m\u001b[0m\u001b[1;33m\u001b[0m\u001b[0m\n",
      "\u001b[1;31mKeyError\u001b[0m: 'foo'"
     ]
    }
   ],
   "source": [
    "#Q4\n",
    "spam = {'bar':100}\n",
    "spam['foo'] \n",
    "# it showed error because it is unable to find any key which is equal to 'foo'"
   ]
  },
  {
   "cell_type": "code",
   "execution_count": 10,
   "id": "b05b99ce",
   "metadata": {},
   "outputs": [
    {
     "data": {
      "text/plain": [
       "True"
      ]
     },
     "execution_count": 10,
     "metadata": {},
     "output_type": "execute_result"
    }
   ],
   "source": [
    "#Q5\n",
    "spam = {'cat':89651}\n",
    "'cat' in spam\n"
   ]
  },
  {
   "cell_type": "code",
   "execution_count": 9,
   "id": "71500e57",
   "metadata": {},
   "outputs": [
    {
     "data": {
      "text/plain": [
       "True"
      ]
     },
     "execution_count": 9,
     "metadata": {},
     "output_type": "execute_result"
    }
   ],
   "source": [
    "'cat' in spam.keys()"
   ]
  },
  {
   "cell_type": "code",
   "execution_count": 11,
   "id": "35bf1784",
   "metadata": {},
   "outputs": [
    {
     "data": {
      "text/plain": [
       "True"
      ]
     },
     "execution_count": 11,
     "metadata": {},
     "output_type": "execute_result"
    }
   ],
   "source": [
    "#Q6\n",
    "spam = {'cat':89651}\n",
    "'cat' in spam"
   ]
  },
  {
   "cell_type": "code",
   "execution_count": 12,
   "id": "f70cb7cb",
   "metadata": {},
   "outputs": [
    {
     "data": {
      "text/plain": [
       "False"
      ]
     },
     "execution_count": 12,
     "metadata": {},
     "output_type": "execute_result"
    }
   ],
   "source": [
    "'cat' in spam.values()"
   ]
  },
  {
   "cell_type": "code",
   "execution_count": 26,
   "id": "3e10ada9",
   "metadata": {},
   "outputs": [
    {
     "name": "stdout",
     "output_type": "stream",
     "text": [
      "{'cat': 89651, 'color': 'black'}\n"
     ]
    }
   ],
   "source": [
    "#Q7\n",
    "spam = {'cat':89651}\n",
    "spam['color'] = 'black' # or you can use spam.setdefault('color','black')\n",
    "print(spam)"
   ]
  },
  {
   "cell_type": "code",
   "execution_count": 28,
   "id": "1588753f",
   "metadata": {},
   "outputs": [],
   "source": [
    "#Q8\n",
    "# Pretty print is used to print the data in more readable and understandable form by importing pprint and using pprint.pprint() function\n",
    "import pprint\n",
    "\n",
    "a = [{'Name':'vishal','Age':26,'email_id':'vishal@gmail.com'},\n",
    "     {'Name':'Taru','Age':28,'email_id':'taru@gmail.com'},\n",
    "     {'Name':'ruby','Age':32,'email_id':'zuby@gmail.com'}]"
   ]
  },
  {
   "cell_type": "code",
   "execution_count": 29,
   "id": "89bca39f",
   "metadata": {},
   "outputs": [
    {
     "name": "stdout",
     "output_type": "stream",
     "text": [
      "[{'Age': 26, 'Name': 'vishal', 'email_id': 'vishal@gmail.com'},\n",
      " {'Age': 28, 'Name': 'Taru', 'email_id': 'taru@gmail.com'},\n",
      " {'Age': 32, 'Name': 'ruby', 'email_id': 'zuby@gmail.com'}]\n"
     ]
    }
   ],
   "source": [
    "pprint.pprint(a) # it is in more readab"
   ]
  },
  {
   "cell_type": "code",
   "execution_count": 30,
   "id": "0d6f38d5",
   "metadata": {},
   "outputs": [
    {
     "name": "stdout",
     "output_type": "stream",
     "text": [
      "[{'Name': 'vishal', 'Age': 26, 'email_id': 'vishal@gmail.com'}, {'Name': 'Taru', 'Age': 28, 'email_id': 'taru@gmail.com'}, {'Name': 'ruby', 'Age': 32, 'email_id': 'zuby@gmail.com'}]\n"
     ]
    }
   ],
   "source": [
    "print(a)"
   ]
  },
  {
   "cell_type": "code",
   "execution_count": null,
   "id": "009715d7",
   "metadata": {},
   "outputs": [],
   "source": []
  }
 ],
 "metadata": {
  "kernelspec": {
   "display_name": "Python 3 (ipykernel)",
   "language": "python",
   "name": "python3"
  },
  "language_info": {
   "codemirror_mode": {
    "name": "ipython",
    "version": 3
   },
   "file_extension": ".py",
   "mimetype": "text/x-python",
   "name": "python",
   "nbconvert_exporter": "python",
   "pygments_lexer": "ipython3",
   "version": "3.9.7"
  }
 },
 "nbformat": 4,
 "nbformat_minor": 5
}
